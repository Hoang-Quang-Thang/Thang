{
  "nbformat": 4,
  "nbformat_minor": 0,
  "metadata": {
    "colab": {
      "name": "Max.ipynb",
      "provenance": [],
      "authorship_tag": "ABX9TyMaACmxDaKw62dVe90EVcf9",
      "include_colab_link": true
    },
    "kernelspec": {
      "name": "python3",
      "display_name": "Python 3"
    }
  },
  "cells": [
    {
      "cell_type": "markdown",
      "metadata": {
        "id": "view-in-github",
        "colab_type": "text"
      },
      "source": [
        "<a href=\"https://colab.research.google.com/github/Hoang-Quang-Thang/Thang/blob/main/Max.ipynb\" target=\"_parent\"><img src=\"https://colab.research.google.com/assets/colab-badge.svg\" alt=\"Open In Colab\"/></a>"
      ]
    },
    {
      "cell_type": "code",
      "metadata": {
        "colab": {
          "base_uri": "https://localhost:8080/"
        },
        "id": "cB8ChsRj5IiW",
        "outputId": "9cd8e393-89b8-411c-deb1-028e5f8b0c90"
      },
      "source": [
        "import random\n",
        "n=int(input('n='))\n",
        "list=[]\n",
        "if n<=0:\n",
        "  print('Khong co phan tu nao lon nhat')\n",
        "elif n>0:\n",
        "  for i in range(n):\n",
        "    list.append(random.random())\n",
        "    max_value=list[0]\n",
        "    for i in list:\n",
        "      if i>max_value:\n",
        "        max_value=i\n",
        "    print(list)\n",
        "    print('Phan tu lon nhat: ', max_value)"
      ],
      "execution_count": 5,
      "outputs": [
        {
          "output_type": "stream",
          "text": [
            "n=5\n",
            "[0.7762419005539358]\n",
            "Phan tu lon nhat:  0.7762419005539358\n",
            "[0.7762419005539358, 0.09568962848041618]\n",
            "Phan tu lon nhat:  0.7762419005539358\n",
            "[0.7762419005539358, 0.09568962848041618, 0.6187945599501887]\n",
            "Phan tu lon nhat:  0.7762419005539358\n",
            "[0.7762419005539358, 0.09568962848041618, 0.6187945599501887, 0.7912101519855662]\n",
            "Phan tu lon nhat:  0.7912101519855662\n",
            "[0.7762419005539358, 0.09568962848041618, 0.6187945599501887, 0.7912101519855662, 0.29547362847203773]\n",
            "Phan tu lon nhat:  0.7912101519855662\n"
          ],
          "name": "stdout"
        }
      ]
    }
  ]
}