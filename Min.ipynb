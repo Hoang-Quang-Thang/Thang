{
  "nbformat": 4,
  "nbformat_minor": 0,
  "metadata": {
    "colab": {
      "name": "Min.ipynb",
      "provenance": [],
      "authorship_tag": "ABX9TyMbNBE3xmJdWHZ2MufMpW1N",
      "include_colab_link": true
    },
    "kernelspec": {
      "name": "python3",
      "display_name": "Python 3"
    }
  },
  "cells": [
    {
      "cell_type": "markdown",
      "metadata": {
        "id": "view-in-github",
        "colab_type": "text"
      },
      "source": [
        "<a href=\"https://colab.research.google.com/github/Hoang-Quang-Thang/Thang/blob/main/Min.ipynb\" target=\"_parent\"><img src=\"https://colab.research.google.com/assets/colab-badge.svg\" alt=\"Open In Colab\"/></a>"
      ]
    },
    {
      "cell_type": "code",
      "metadata": {
        "colab": {
          "base_uri": "https://localhost:8080/"
        },
        "id": "cB8ChsRj5IiW",
        "outputId": "bebe03e2-65a9-4066-8b91-75976d757ca4"
      },
      "source": [
        "import random\n",
        "n=int(input('n='))\n",
        "list=[]\n",
        "if n<=0:\n",
        "  print('Khong co phan tu nao nho nhat')\n",
        "elif n>0:\n",
        "  for i in range(n):\n",
        "    list.append(random.random())\n",
        "    max_value=list[0]\n",
        "    for i in list:\n",
        "      if i<max_value:\n",
        "        max_value=i\n",
        "    print(list)\n",
        "    print('Phan tu nho nhat: ', max_value)"
      ],
      "execution_count": 9,
      "outputs": [
        {
          "output_type": "stream",
          "text": [
            "n=5\n",
            "[0.7889679435960786]\n",
            "Phan tu nho nhat:  0.7889679435960786\n",
            "[0.7889679435960786, 0.4443675864819955]\n",
            "Phan tu nho nhat:  0.4443675864819955\n",
            "[0.7889679435960786, 0.4443675864819955, 0.22522151192758366]\n",
            "Phan tu nho nhat:  0.22522151192758366\n",
            "[0.7889679435960786, 0.4443675864819955, 0.22522151192758366, 0.5130064854567814]\n",
            "Phan tu nho nhat:  0.22522151192758366\n",
            "[0.7889679435960786, 0.4443675864819955, 0.22522151192758366, 0.5130064854567814, 0.4290327275255308]\n",
            "Phan tu nho nhat:  0.22522151192758366\n"
          ],
          "name": "stdout"
        }
      ]
    }
  ]
}