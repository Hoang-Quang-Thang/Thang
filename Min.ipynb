{
  "nbformat": 4,
  "nbformat_minor": 0,
  "metadata": {
    "colab": {
      "name": "Min.ipynb",
      "provenance": [],
      "authorship_tag": "ABX9TyPdMR8Lcs3g+WXDUiN0gtPc",
      "include_colab_link": true
    },
    "kernelspec": {
      "name": "python3",
      "display_name": "Python 3"
    }
  },
  "cells": [
    {
      "cell_type": "markdown",
      "metadata": {
        "id": "view-in-github",
        "colab_type": "text"
      },
      "source": [
        "<a href=\"https://colab.research.google.com/github/Hoang-Quang-Thang/Thang/blob/main/Min.ipynb\" target=\"_parent\"><img src=\"https://colab.research.google.com/assets/colab-badge.svg\" alt=\"Open In Colab\"/></a>"
      ]
    },
    {
      "cell_type": "code",
      "metadata": {
        "colab": {
          "base_uri": "https://localhost:8080/"
        },
        "id": "cB8ChsRj5IiW",
        "outputId": "3adc4091-0782-49d0-d80e-fd146b2cd5eb"
      },
      "source": [
        "import random\n",
        "n=int(input('n='))\n",
        "list=[]\n",
        "if n<=0:\n",
        "  print('Khong co phan tu nao nho nhat')\n",
        "elif n>0:\n",
        "  for i in range(n):\n",
        "    list.append(random.random())\n",
        "    min_value=list[0]\n",
        "    for i in list:\n",
        "      if i<min_value:\n",
        "        min_value=i\n",
        "    print(list)\n",
        "    print('Phan tu nho nhat: ', min_value)"
      ],
      "execution_count": 1,
      "outputs": [
        {
          "output_type": "stream",
          "text": [
            "n=5\n",
            "[0.7193325352393667]\n",
            "Phan tu nho nhat:  0.7193325352393667\n",
            "[0.7193325352393667, 0.3217052115807164]\n",
            "Phan tu nho nhat:  0.3217052115807164\n",
            "[0.7193325352393667, 0.3217052115807164, 0.7763830691079454]\n",
            "Phan tu nho nhat:  0.3217052115807164\n",
            "[0.7193325352393667, 0.3217052115807164, 0.7763830691079454, 0.9361869743307832]\n",
            "Phan tu nho nhat:  0.3217052115807164\n",
            "[0.7193325352393667, 0.3217052115807164, 0.7763830691079454, 0.9361869743307832, 0.665303732835169]\n",
            "Phan tu nho nhat:  0.3217052115807164\n"
          ],
          "name": "stdout"
        }
      ]
    }
  ]
}