{
  "nbformat": 4,
  "nbformat_minor": 0,
  "metadata": {
    "colab": {
      "name": "BTap_List.ipynb",
      "provenance": [],
      "authorship_tag": "ABX9TyPfJSQgVFzT8rYWKr8VJdC+",
      "include_colab_link": true
    },
    "kernelspec": {
      "name": "python3",
      "display_name": "Python 3"
    }
  },
  "cells": [
    {
      "cell_type": "markdown",
      "metadata": {
        "id": "view-in-github",
        "colab_type": "text"
      },
      "source": [
        "<a href=\"https://colab.research.google.com/github/Hoang-Quang-Thang/Thang/blob/main/BTap_List.ipynb\" target=\"_parent\"><img src=\"https://colab.research.google.com/assets/colab-badge.svg\" alt=\"Open In Colab\"/></a>"
      ]
    },
    {
      "cell_type": "code",
      "metadata": {
        "id": "Qg8K2iHNSmvB",
        "outputId": "db8395bb-a7d4-489c-d464-7d962e7be3ef",
        "colab": {
          "base_uri": "https://localhost:8080/"
        }
      },
      "source": [
        "x=[]\n",
        "y=[12, 45, -1, -0.56, \"abc\"]\n",
        "x.append(18)\n",
        "x.append(\"Huế\")\n",
        "x.extend(y)\n",
        "print('Giá trị của x', x[:])\n",
        "print('Giá trị của phần tử cuối cùng và phần tử đầu tiên của x là', x[0], 'và',x[6])\n",
        "print('Giá trị của phần tử đầu tiên đến phần tử thứ 5 của x là', x[0:5])\n",
        "print('Giá trị của phần từ thứ 3 đến cuối cùng của x là', x[2:7])"
      ],
      "execution_count": 4,
      "outputs": [
        {
          "output_type": "stream",
          "text": [
            "Giá trị của x [18, 'Huế', 12, 45, -1, -0.56, 'abc']\n",
            "Giá trị của phần tử cuối cùng và phần tử đầu tiên của x là 18 và abc\n",
            "Giá trị của phần tử đầu tiên đến phần tử thứ 5 của x là [18, 'Huế', 12, 45, -1]\n",
            "Giá trị của phần từ thứ 3 đến cuối cùng của x là [12, 45, -1, -0.56, 'abc']\n"
          ],
          "name": "stdout"
        }
      ]
    }
  ]
}