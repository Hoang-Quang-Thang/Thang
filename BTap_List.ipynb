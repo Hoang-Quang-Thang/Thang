{
  "nbformat": 4,
  "nbformat_minor": 0,
  "metadata": {
    "colab": {
      "name": "BTap_List.ipynb",
      "provenance": [],
      "authorship_tag": "ABX9TyOEa88kYUafcAFQ6MYQuljp",
      "include_colab_link": true
    },
    "kernelspec": {
      "name": "python3",
      "display_name": "Python 3"
    }
  },
  "cells": [
    {
      "cell_type": "markdown",
      "metadata": {
        "id": "view-in-github",
        "colab_type": "text"
      },
      "source": [
        "<a href=\"https://colab.research.google.com/github/Hoang-Quang-Thang/Thang/blob/main/BTap_List.ipynb\" target=\"_parent\"><img src=\"https://colab.research.google.com/assets/colab-badge.svg\" alt=\"Open In Colab\"/></a>"
      ]
    },
    {
      "cell_type": "code",
      "metadata": {
        "id": "Qg8K2iHNSmvB",
        "outputId": "fc0b2f76-2ed1-4838-df98-77322c700d33",
        "colab": {
          "base_uri": "https://localhost:8080/"
        }
      },
      "source": [
        "x=[]\n",
        "x.append(18)\n",
        "x.append(\"Huế\")\n",
        "y=[12, 45, -1, -0.56, \"abc\"]\n",
        "x.extend(y)\n",
        "print(x)\n",
        "print('Giá trị của phần tử cuối cùng và phần tử đầu tiên của x là', x[0], 'và',x[6])\n",
        "print('Giá trị của phần tử đầu tiên đến phần tử thứ 5 của x là', x[0:5])\n",
        "print('Giá trị của phần từ thứ 3 đến cuối cùng của x là', x[2:7])"
      ],
      "execution_count": 44,
      "outputs": [
        {
          "output_type": "stream",
          "text": [
            "[18, 'Huế', 12, 45, -1, -0.56, 'abc']\n",
            "Giá trị của phần tử cuối cùng và phần tử đầu tiên của x là 18 và abc\n",
            "Giá trị của phần tử đầu tiên đến phần tử thứ 5 của x là [18, 'Huế', 12, 45, -1]\n",
            "Giá trị của phần từ thứ 3 đến cuối cùng của x là [12, 45, -1, -0.56, 'abc']\n"
          ],
          "name": "stdout"
        }
      ]
    }
  ]
}