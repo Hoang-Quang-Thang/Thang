{
  "nbformat": 4,
  "nbformat_minor": 0,
  "metadata": {
    "colab": {
      "name": "BTap2.ipynb",
      "provenance": [],
      "authorship_tag": "ABX9TyNYgjKCwi5GGDvdVsiXf33c",
      "include_colab_link": true
    },
    "kernelspec": {
      "name": "python3",
      "display_name": "Python 3"
    }
  },
  "cells": [
    {
      "cell_type": "markdown",
      "metadata": {
        "id": "view-in-github",
        "colab_type": "text"
      },
      "source": [
        "<a href=\"https://colab.research.google.com/github/Hoang-Quang-Thang/Thang/blob/main/BTap2.ipynb\" target=\"_parent\"><img src=\"https://colab.research.google.com/assets/colab-badge.svg\" alt=\"Open In Colab\"/></a>"
      ]
    },
    {
      "cell_type": "code",
      "metadata": {
        "colab": {
          "base_uri": "https://localhost:8080/"
        },
        "id": "Fhvd_YODW4px",
        "outputId": "9523f397-f9d4-469a-afe4-6d12915346d7"
      },
      "source": [
        "import math\n",
        "n=int(input(\"n=\"))\n",
        "a=float(input(\"a=\"))\n",
        "b=float(input(\"b=\"))\n",
        "for i in range(n):\n",
        "  if a==0:\n",
        "    if b==0:\n",
        "      print(\"Phương trình vô số nghiệm\")\n",
        "    else:\n",
        "      print(\"phương trình vô nghiệm\")\n",
        "  else:\n",
        "    x=-b/a\n",
        "  print(\"Nghiệm của phương trình là\", x)"
      ],
      "execution_count": 3,
      "outputs": [
        {
          "output_type": "stream",
          "text": [
            "n=4\n",
            "a=5\n",
            "b=6\n",
            "Nghiệm của phương trình là -1.2\n",
            "Nghiệm của phương trình là -1.2\n",
            "Nghiệm của phương trình là -1.2\n",
            "Nghiệm của phương trình là -1.2\n"
          ],
          "name": "stdout"
        }
      ]
    }
  ]
}