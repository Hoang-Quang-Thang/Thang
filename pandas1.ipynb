{
  "nbformat": 4,
  "nbformat_minor": 0,
  "metadata": {
    "colab": {
      "name": "pandas1.ipynb",
      "provenance": [],
      "collapsed_sections": [],
      "authorship_tag": "ABX9TyMfrqgVO/bB9zZ2/wR+O6Yp",
      "include_colab_link": true
    },
    "kernelspec": {
      "name": "python3",
      "display_name": "Python 3"
    }
  },
  "cells": [
    {
      "cell_type": "markdown",
      "metadata": {
        "id": "view-in-github",
        "colab_type": "text"
      },
      "source": [
        "<a href=\"https://colab.research.google.com/github/Hoang-Quang-Thang/Thang/blob/main/pandas1.ipynb\" target=\"_parent\"><img src=\"https://colab.research.google.com/assets/colab-badge.svg\" alt=\"Open In Colab\"/></a>"
      ]
    },
    {
      "cell_type": "code",
      "metadata": {
        "id": "ofNwkIwLSy6O"
      },
      "source": [
        "import pandas as pd\r\n",
        "import random"
      ],
      "execution_count": 70,
      "outputs": []
    },
    {
      "cell_type": "markdown",
      "metadata": {
        "id": "GPl9RFkQQRJe"
      },
      "source": [
        "Đọc csv file vào dataframe"
      ]
    },
    {
      "cell_type": "code",
      "metadata": {
        "id": "6zQ-2LvNNBCg"
      },
      "source": [
        ""
      ],
      "execution_count": 103,
      "outputs": []
    },
    {
      "cell_type": "code",
      "metadata": {
        "colab": {
          "base_uri": "https://localhost:8080/"
        },
        "id": "65TL2eSrPzWO",
        "outputId": "94411ed5-8a0e-4245-b057-84add1096f2a"
      },
      "source": [
        "df=pd.read_csv('gdrive/My Drive/thang.csv')\r\n",
        "print(df)"
      ],
      "execution_count": 104,
      "outputs": [
        {
          "output_type": "stream",
          "text": [
            "   Series reference  ... Revised\n",
            "0    PPIQ.SQU900000  ...    1184\n",
            "1    PPIQ.SQU900001  ...    1181\n",
            "2    PPIQ.SQUC76745  ...    1603\n",
            "3    PPIQ.SQUCC3100  ...    1170\n",
            "4    PPIQ.SQUCC3110  ...    1170\n",
            "..              ...  ...     ...\n",
            "73   PPIQ.SQNMN2100  ...    1195\n",
            "74   PPIQ.SQNRS211X  ...    1127\n",
            "75       FPIQ.SEC14  ...    1120\n",
            "76       FPIQ.SEC99  ...    1068\n",
            "77       FPIQ.SEH14  ...    1110\n",
            "\n",
            "[78 rows x 5 columns]\n"
          ],
          "name": "stdout"
        }
      ]
    },
    {
      "cell_type": "code",
      "metadata": {
        "colab": {
          "base_uri": "https://localhost:8080/",
          "height": 204
        },
        "id": "ABhXwpNBQPCX",
        "outputId": "572c3354-7405-4a7e-abe8-c6b0174f5de6"
      },
      "source": [
        "df.head(5)   # 5 hàng đầu của csv "
      ],
      "execution_count": 28,
      "outputs": [
        {
          "output_type": "execute_result",
          "data": {
            "text/html": [
              "<div>\n",
              "<style scoped>\n",
              "    .dataframe tbody tr th:only-of-type {\n",
              "        vertical-align: middle;\n",
              "    }\n",
              "\n",
              "    .dataframe tbody tr th {\n",
              "        vertical-align: top;\n",
              "    }\n",
              "\n",
              "    .dataframe thead th {\n",
              "        text-align: right;\n",
              "    }\n",
              "</style>\n",
              "<table border=\"1\" class=\"dataframe\">\n",
              "  <thead>\n",
              "    <tr style=\"text-align: right;\">\n",
              "      <th></th>\n",
              "      <th>Series reference</th>\n",
              "      <th>Description</th>\n",
              "      <th>Period</th>\n",
              "      <th>Previously published</th>\n",
              "      <th>Revised</th>\n",
              "    </tr>\n",
              "  </thead>\n",
              "  <tbody>\n",
              "    <tr>\n",
              "      <th>0</th>\n",
              "      <td>PPIQ.SQU900000</td>\n",
              "      <td>PPI output index - All industries</td>\n",
              "      <td>2020.06</td>\n",
              "      <td>1183</td>\n",
              "      <td>1184</td>\n",
              "    </tr>\n",
              "    <tr>\n",
              "      <th>1</th>\n",
              "      <td>PPIQ.SQU900001</td>\n",
              "      <td>PPI output index - All industries excl OOD</td>\n",
              "      <td>2020.06</td>\n",
              "      <td>1180</td>\n",
              "      <td>1181</td>\n",
              "    </tr>\n",
              "    <tr>\n",
              "      <th>2</th>\n",
              "      <td>PPIQ.SQUC76745</td>\n",
              "      <td>PPI published output commodity - Transport sup...</td>\n",
              "      <td>2020.06</td>\n",
              "      <td>1400</td>\n",
              "      <td>1603</td>\n",
              "    </tr>\n",
              "    <tr>\n",
              "      <th>3</th>\n",
              "      <td>PPIQ.SQUCC3100</td>\n",
              "      <td>PPI output index level 3 - Wood product manufa...</td>\n",
              "      <td>2020.06</td>\n",
              "      <td>1169</td>\n",
              "      <td>1170</td>\n",
              "    </tr>\n",
              "    <tr>\n",
              "      <th>4</th>\n",
              "      <td>PPIQ.SQUCC3110</td>\n",
              "      <td>PPI output index level 4 - Wood product manufa...</td>\n",
              "      <td>2020.06</td>\n",
              "      <td>1169</td>\n",
              "      <td>1170</td>\n",
              "    </tr>\n",
              "  </tbody>\n",
              "</table>\n",
              "</div>"
            ],
            "text/plain": [
              "  Series reference  ... Revised\n",
              "0   PPIQ.SQU900000  ...    1184\n",
              "1   PPIQ.SQU900001  ...    1181\n",
              "2   PPIQ.SQUC76745  ...    1603\n",
              "3   PPIQ.SQUCC3100  ...    1170\n",
              "4   PPIQ.SQUCC3110  ...    1170\n",
              "\n",
              "[5 rows x 5 columns]"
            ]
          },
          "metadata": {
            "tags": []
          },
          "execution_count": 28
        }
      ]
    },
    {
      "cell_type": "code",
      "metadata": {
        "colab": {
          "base_uri": "https://localhost:8080/",
          "height": 142
        },
        "id": "YzF2jVImQfkM",
        "outputId": "dfdca476-20d4-4e5f-f702-a7c61e95c0ab"
      },
      "source": [
        "df.tail(3) # 3 hàng cuối của csv"
      ],
      "execution_count": 29,
      "outputs": [
        {
          "output_type": "execute_result",
          "data": {
            "text/html": [
              "<div>\n",
              "<style scoped>\n",
              "    .dataframe tbody tr th:only-of-type {\n",
              "        vertical-align: middle;\n",
              "    }\n",
              "\n",
              "    .dataframe tbody tr th {\n",
              "        vertical-align: top;\n",
              "    }\n",
              "\n",
              "    .dataframe thead th {\n",
              "        text-align: right;\n",
              "    }\n",
              "</style>\n",
              "<table border=\"1\" class=\"dataframe\">\n",
              "  <thead>\n",
              "    <tr style=\"text-align: right;\">\n",
              "      <th></th>\n",
              "      <th>Series reference</th>\n",
              "      <th>Description</th>\n",
              "      <th>Period</th>\n",
              "      <th>Previously published</th>\n",
              "      <th>Revised</th>\n",
              "    </tr>\n",
              "  </thead>\n",
              "  <tbody>\n",
              "    <tr>\n",
              "      <th>75</th>\n",
              "      <td>FPIQ.SEC14</td>\n",
              "      <td>Farm expenses price index - Dairy farms - Freight</td>\n",
              "      <td>2020.06</td>\n",
              "      <td>1102</td>\n",
              "      <td>1120</td>\n",
              "    </tr>\n",
              "    <tr>\n",
              "      <th>76</th>\n",
              "      <td>FPIQ.SEC99</td>\n",
              "      <td>Farm expenses price index - Dairy farms - All ...</td>\n",
              "      <td>2020.06</td>\n",
              "      <td>1067</td>\n",
              "      <td>1068</td>\n",
              "    </tr>\n",
              "    <tr>\n",
              "      <th>77</th>\n",
              "      <td>FPIQ.SEH14</td>\n",
              "      <td>Farm expenses price index - All farms - Freight</td>\n",
              "      <td>2020.06</td>\n",
              "      <td>1102</td>\n",
              "      <td>1110</td>\n",
              "    </tr>\n",
              "  </tbody>\n",
              "</table>\n",
              "</div>"
            ],
            "text/plain": [
              "   Series reference  ... Revised\n",
              "75       FPIQ.SEC14  ...    1120\n",
              "76       FPIQ.SEC99  ...    1068\n",
              "77       FPIQ.SEH14  ...    1110\n",
              "\n",
              "[3 rows x 5 columns]"
            ]
          },
          "metadata": {
            "tags": []
          },
          "execution_count": 29
        }
      ]
    },
    {
      "cell_type": "markdown",
      "metadata": {
        "id": "NdZ7P7vnQwh4"
      },
      "source": [
        "Thao tác với dataframe trong pandas"
      ]
    },
    {
      "cell_type": "code",
      "metadata": {
        "colab": {
          "base_uri": "https://localhost:8080/"
        },
        "id": "9JmZNMQcS4cl",
        "outputId": "1c8a9428-6444-4220-daac-59da9034bc0a"
      },
      "source": [
        "print('Len: ',len(df))  # Xem chiều dài của df, tương đương shape[0]\r\n",
        "print(\"\")\r\n",
        "df.info()                  # Xem thông tin dataframe vừa đọc được\r\n",
        "print(\"\")\r\n",
        "print('Shape:', df.shape)  # Xem kích thước của dataframe"
      ],
      "execution_count": 105,
      "outputs": [
        {
          "output_type": "stream",
          "text": [
            "Len:  78\n",
            "\n",
            "<class 'pandas.core.frame.DataFrame'>\n",
            "RangeIndex: 78 entries, 0 to 77\n",
            "Data columns (total 5 columns):\n",
            " #   Column                Non-Null Count  Dtype  \n",
            "---  ------                --------------  -----  \n",
            " 0   Series reference      78 non-null     object \n",
            " 1   Description           78 non-null     object \n",
            " 2   Period                78 non-null     float64\n",
            " 3   Previously published  78 non-null     int64  \n",
            " 4   Revised               78 non-null     int64  \n",
            "dtypes: float64(1), int64(2), object(2)\n",
            "memory usage: 3.2+ KB\n",
            "\n",
            "Shape: (78, 5)\n"
          ],
          "name": "stdout"
        }
      ]
    },
    {
      "cell_type": "markdown",
      "metadata": {
        "id": "mP1I5z63RRS6"
      },
      "source": [
        "Truy xuất dữ liệu trên dataframe"
      ]
    },
    {
      "cell_type": "code",
      "metadata": {
        "id": "kP6J9q3NUaiX",
        "colab": {
          "base_uri": "https://localhost:8080/"
        },
        "outputId": "8d6591d0-e209-4ec0-ffd1-bb8c9a056f5a"
      },
      "source": [
        "df['Series reference']  # Lấy 1 cột theo tên cột"
      ],
      "execution_count": 37,
      "outputs": [
        {
          "output_type": "execute_result",
          "data": {
            "text/plain": [
              "0     PPIQ.SQU900000\n",
              "1     PPIQ.SQU900001\n",
              "2     PPIQ.SQUC76745\n",
              "3     PPIQ.SQUCC3100\n",
              "4     PPIQ.SQUCC3110\n",
              "           ...      \n",
              "73    PPIQ.SQNMN2100\n",
              "74    PPIQ.SQNRS211X\n",
              "75        FPIQ.SEC14\n",
              "76        FPIQ.SEC99\n",
              "77        FPIQ.SEH14\n",
              "Name: Series reference, Length: 78, dtype: object"
            ]
          },
          "metadata": {
            "tags": []
          },
          "execution_count": 37
        }
      ]
    },
    {
      "cell_type": "code",
      "metadata": {
        "colab": {
          "base_uri": "https://localhost:8080/",
          "height": 204
        },
        "id": "4Qvcrz68RimC",
        "outputId": "e05e6b08-df84-4477-ef1c-bc80d7d6f45c"
      },
      "source": [
        "df[['Previously published', 'Revised']].head(5)  # Lấy nhiều cột theo tên cột và chỉ [5] hàng đầu"
      ],
      "execution_count": 43,
      "outputs": [
        {
          "output_type": "execute_result",
          "data": {
            "text/html": [
              "<div>\n",
              "<style scoped>\n",
              "    .dataframe tbody tr th:only-of-type {\n",
              "        vertical-align: middle;\n",
              "    }\n",
              "\n",
              "    .dataframe tbody tr th {\n",
              "        vertical-align: top;\n",
              "    }\n",
              "\n",
              "    .dataframe thead th {\n",
              "        text-align: right;\n",
              "    }\n",
              "</style>\n",
              "<table border=\"1\" class=\"dataframe\">\n",
              "  <thead>\n",
              "    <tr style=\"text-align: right;\">\n",
              "      <th></th>\n",
              "      <th>Previously published</th>\n",
              "      <th>Revised</th>\n",
              "    </tr>\n",
              "  </thead>\n",
              "  <tbody>\n",
              "    <tr>\n",
              "      <th>0</th>\n",
              "      <td>1183</td>\n",
              "      <td>1184</td>\n",
              "    </tr>\n",
              "    <tr>\n",
              "      <th>1</th>\n",
              "      <td>1180</td>\n",
              "      <td>1181</td>\n",
              "    </tr>\n",
              "    <tr>\n",
              "      <th>2</th>\n",
              "      <td>1400</td>\n",
              "      <td>1603</td>\n",
              "    </tr>\n",
              "    <tr>\n",
              "      <th>3</th>\n",
              "      <td>1169</td>\n",
              "      <td>1170</td>\n",
              "    </tr>\n",
              "    <tr>\n",
              "      <th>4</th>\n",
              "      <td>1169</td>\n",
              "      <td>1170</td>\n",
              "    </tr>\n",
              "  </tbody>\n",
              "</table>\n",
              "</div>"
            ],
            "text/plain": [
              "   Previously published  Revised\n",
              "0                  1183     1184\n",
              "1                  1180     1181\n",
              "2                  1400     1603\n",
              "3                  1169     1170\n",
              "4                  1169     1170"
            ]
          },
          "metadata": {
            "tags": []
          },
          "execution_count": 43
        }
      ]
    },
    {
      "cell_type": "markdown",
      "metadata": {
        "id": "fyY8pZENSny_"
      },
      "source": [
        "Lấy bản ghi theo chỉ số"
      ]
    },
    {
      "cell_type": "code",
      "metadata": {
        "colab": {
          "base_uri": "https://localhost:8080/",
          "height": 204
        },
        "id": "_KOYikZVSprG",
        "outputId": "a78bc79f-5630-465c-a254-256f18d7984b"
      },
      "source": [
        "df[0:5]   # Lấy 5 hàng đầu với bắt đầu là dòng [0]"
      ],
      "execution_count": 47,
      "outputs": [
        {
          "output_type": "execute_result",
          "data": {
            "text/html": [
              "<div>\n",
              "<style scoped>\n",
              "    .dataframe tbody tr th:only-of-type {\n",
              "        vertical-align: middle;\n",
              "    }\n",
              "\n",
              "    .dataframe tbody tr th {\n",
              "        vertical-align: top;\n",
              "    }\n",
              "\n",
              "    .dataframe thead th {\n",
              "        text-align: right;\n",
              "    }\n",
              "</style>\n",
              "<table border=\"1\" class=\"dataframe\">\n",
              "  <thead>\n",
              "    <tr style=\"text-align: right;\">\n",
              "      <th></th>\n",
              "      <th>Series reference</th>\n",
              "      <th>Description</th>\n",
              "      <th>Period</th>\n",
              "      <th>Previously published</th>\n",
              "      <th>Revised</th>\n",
              "    </tr>\n",
              "  </thead>\n",
              "  <tbody>\n",
              "    <tr>\n",
              "      <th>0</th>\n",
              "      <td>PPIQ.SQU900000</td>\n",
              "      <td>PPI output index - All industries</td>\n",
              "      <td>2020.06</td>\n",
              "      <td>1183</td>\n",
              "      <td>1184</td>\n",
              "    </tr>\n",
              "    <tr>\n",
              "      <th>1</th>\n",
              "      <td>PPIQ.SQU900001</td>\n",
              "      <td>PPI output index - All industries excl OOD</td>\n",
              "      <td>2020.06</td>\n",
              "      <td>1180</td>\n",
              "      <td>1181</td>\n",
              "    </tr>\n",
              "    <tr>\n",
              "      <th>2</th>\n",
              "      <td>PPIQ.SQUC76745</td>\n",
              "      <td>PPI published output commodity - Transport sup...</td>\n",
              "      <td>2020.06</td>\n",
              "      <td>1400</td>\n",
              "      <td>1603</td>\n",
              "    </tr>\n",
              "    <tr>\n",
              "      <th>3</th>\n",
              "      <td>PPIQ.SQUCC3100</td>\n",
              "      <td>PPI output index level 3 - Wood product manufa...</td>\n",
              "      <td>2020.06</td>\n",
              "      <td>1169</td>\n",
              "      <td>1170</td>\n",
              "    </tr>\n",
              "    <tr>\n",
              "      <th>4</th>\n",
              "      <td>PPIQ.SQUCC3110</td>\n",
              "      <td>PPI output index level 4 - Wood product manufa...</td>\n",
              "      <td>2020.06</td>\n",
              "      <td>1169</td>\n",
              "      <td>1170</td>\n",
              "    </tr>\n",
              "  </tbody>\n",
              "</table>\n",
              "</div>"
            ],
            "text/plain": [
              "  Series reference  ... Revised\n",
              "0   PPIQ.SQU900000  ...    1184\n",
              "1   PPIQ.SQU900001  ...    1181\n",
              "2   PPIQ.SQUC76745  ...    1603\n",
              "3   PPIQ.SQUCC3100  ...    1170\n",
              "4   PPIQ.SQUCC3110  ...    1170\n",
              "\n",
              "[5 rows x 5 columns]"
            ]
          },
          "metadata": {
            "tags": []
          },
          "execution_count": 47
        }
      ]
    },
    {
      "cell_type": "code",
      "metadata": {
        "colab": {
          "base_uri": "https://localhost:8080/",
          "height": 297
        },
        "id": "grh8-vCOS0s3",
        "outputId": "18d64831-7540-4465-f8a7-9317c8ac76e8"
      },
      "source": [
        "df[['Previously published', 'Revised']][:8]  # Lấy nhiều cột theo tên cột [8] hàng đầu với bắt đầu là dòng [0]"
      ],
      "execution_count": 59,
      "outputs": [
        {
          "output_type": "execute_result",
          "data": {
            "text/html": [
              "<div>\n",
              "<style scoped>\n",
              "    .dataframe tbody tr th:only-of-type {\n",
              "        vertical-align: middle;\n",
              "    }\n",
              "\n",
              "    .dataframe tbody tr th {\n",
              "        vertical-align: top;\n",
              "    }\n",
              "\n",
              "    .dataframe thead th {\n",
              "        text-align: right;\n",
              "    }\n",
              "</style>\n",
              "<table border=\"1\" class=\"dataframe\">\n",
              "  <thead>\n",
              "    <tr style=\"text-align: right;\">\n",
              "      <th></th>\n",
              "      <th>Previously published</th>\n",
              "      <th>Revised</th>\n",
              "    </tr>\n",
              "  </thead>\n",
              "  <tbody>\n",
              "    <tr>\n",
              "      <th>0</th>\n",
              "      <td>1183</td>\n",
              "      <td>1184</td>\n",
              "    </tr>\n",
              "    <tr>\n",
              "      <th>1</th>\n",
              "      <td>1180</td>\n",
              "      <td>1181</td>\n",
              "    </tr>\n",
              "    <tr>\n",
              "      <th>2</th>\n",
              "      <td>1400</td>\n",
              "      <td>1603</td>\n",
              "    </tr>\n",
              "    <tr>\n",
              "      <th>3</th>\n",
              "      <td>1169</td>\n",
              "      <td>1170</td>\n",
              "    </tr>\n",
              "    <tr>\n",
              "      <th>4</th>\n",
              "      <td>1169</td>\n",
              "      <td>1170</td>\n",
              "    </tr>\n",
              "    <tr>\n",
              "      <th>5</th>\n",
              "      <td>1132</td>\n",
              "      <td>1133</td>\n",
              "    </tr>\n",
              "    <tr>\n",
              "      <th>6</th>\n",
              "      <td>1132</td>\n",
              "      <td>1133</td>\n",
              "    </tr>\n",
              "    <tr>\n",
              "      <th>7</th>\n",
              "      <td>1132</td>\n",
              "      <td>1133</td>\n",
              "    </tr>\n",
              "  </tbody>\n",
              "</table>\n",
              "</div>"
            ],
            "text/plain": [
              "   Previously published  Revised\n",
              "0                  1183     1184\n",
              "1                  1180     1181\n",
              "2                  1400     1603\n",
              "3                  1169     1170\n",
              "4                  1169     1170\n",
              "5                  1132     1133\n",
              "6                  1132     1133\n",
              "7                  1132     1133"
            ]
          },
          "metadata": {
            "tags": []
          },
          "execution_count": 59
        }
      ]
    },
    {
      "cell_type": "markdown",
      "metadata": {
        "id": "UlBy9L3JTsSW"
      },
      "source": [
        "Lấy các bản ghi theo điều kiện"
      ]
    },
    {
      "cell_type": "code",
      "metadata": {
        "colab": {
          "base_uri": "https://localhost:8080/"
        },
        "id": "NcudJCvTTsyy",
        "outputId": "86100143-9110-4fe8-ddca-71ee62073cb2"
      },
      "source": [
        "a = df[df['Revised'] < 1100]\r\n",
        "print(a)"
      ],
      "execution_count": 67,
      "outputs": [
        {
          "output_type": "stream",
          "text": [
            "   Series reference  ... Revised\n",
            "29   PPIQ.SQNCC2000  ...     957\n",
            "30   PPIQ.SQNCC2100  ...     957\n",
            "31   PPIQ.SQNCC211X  ...     904\n",
            "64   PPIQ.SQNII1200  ...    1033\n",
            "66   PPIQ.SQNJJ0000  ...     998\n",
            "67   PPIQ.SQNJJ1000  ...     998\n",
            "68   PPIQ.SQNJJ1100  ...    1062\n",
            "76       FPIQ.SEC99  ...    1068\n",
            "\n",
            "[8 rows x 5 columns]\n"
          ],
          "name": "stdout"
        }
      ]
    },
    {
      "cell_type": "markdown",
      "metadata": {
        "id": "XRPLWF_vUYa8"
      },
      "source": [
        "Lấy giá trị trả về numpy arrays"
      ]
    },
    {
      "cell_type": "code",
      "metadata": {
        "colab": {
          "base_uri": "https://localhost:8080/"
        },
        "id": "zU4qgithUbxz",
        "outputId": "ee68005a-e87e-4cdf-a361-783c43855123"
      },
      "source": [
        "df['Revised'].values"
      ],
      "execution_count": 107,
      "outputs": [
        {
          "output_type": "execute_result",
          "data": {
            "text/plain": [
              "array([1184, 1181, 1603, 1170, 1170, 1133, 1133, 1133, 1149, 1112, 1249,\n",
              "       1249, 1174, 1174, 1238, 1318, 1188, 1188, 1271, 1271, 1153, 1153,\n",
              "       1154, 1153, 1568, 1103, 1166, 1264, 1264,  957,  957,  904, 1213,\n",
              "       1144, 1164, 1164, 1115, 1115, 1151, 1151, 1141, 1141, 1141, 1192,\n",
              "       1192, 1161, 1252, 1233, 1233, 1283, 1142, 1142, 1142, 1120, 1148,\n",
              "       1126, 1155, 1159, 1122, 1143, 1124, 1124, 1142, 1142, 1033, 1262,\n",
              "        998,  998, 1062, 1110, 1224, 1213, 1195, 1195, 1127, 1120, 1068,\n",
              "       1110])"
            ]
          },
          "metadata": {
            "tags": []
          },
          "execution_count": 107
        }
      ]
    },
    {
      "cell_type": "markdown",
      "metadata": {
        "id": "GfO3yiLLYzWt"
      },
      "source": [
        "Thêm, sửa, xóa trong dataframe"
      ]
    },
    {
      "cell_type": "code",
      "metadata": {
        "colab": {
          "base_uri": "https://localhost:8080/",
          "height": 204
        },
        "id": "C0yolZCVY0_h",
        "outputId": "dd262242-90d3-4f7b-9623-1b0913a5972f"
      },
      "source": [
        "df_len = len(df)\r\n",
        "birthday = [random.randrange(1980, 2000, 1) for i in range(df_len)]     #  Thêm cột từ dữ liệu mới\r\n",
        "df['Birthday'] = birthday\r\n",
        "df.tail(5)"
      ],
      "execution_count": 108,
      "outputs": [
        {
          "output_type": "execute_result",
          "data": {
            "text/html": [
              "<div>\n",
              "<style scoped>\n",
              "    .dataframe tbody tr th:only-of-type {\n",
              "        vertical-align: middle;\n",
              "    }\n",
              "\n",
              "    .dataframe tbody tr th {\n",
              "        vertical-align: top;\n",
              "    }\n",
              "\n",
              "    .dataframe thead th {\n",
              "        text-align: right;\n",
              "    }\n",
              "</style>\n",
              "<table border=\"1\" class=\"dataframe\">\n",
              "  <thead>\n",
              "    <tr style=\"text-align: right;\">\n",
              "      <th></th>\n",
              "      <th>Series reference</th>\n",
              "      <th>Description</th>\n",
              "      <th>Period</th>\n",
              "      <th>Previously published</th>\n",
              "      <th>Revised</th>\n",
              "      <th>Birthday</th>\n",
              "    </tr>\n",
              "  </thead>\n",
              "  <tbody>\n",
              "    <tr>\n",
              "      <th>73</th>\n",
              "      <td>PPIQ.SQNMN2100</td>\n",
              "      <td>PPI input index level 3 - Administrative and s...</td>\n",
              "      <td>2020.06</td>\n",
              "      <td>1194</td>\n",
              "      <td>1195</td>\n",
              "      <td>1987</td>\n",
              "    </tr>\n",
              "    <tr>\n",
              "      <th>74</th>\n",
              "      <td>PPIQ.SQNRS211X</td>\n",
              "      <td>PPI input index level 4 - Repair &amp; maintenance</td>\n",
              "      <td>2020.06</td>\n",
              "      <td>1126</td>\n",
              "      <td>1127</td>\n",
              "      <td>1991</td>\n",
              "    </tr>\n",
              "    <tr>\n",
              "      <th>75</th>\n",
              "      <td>FPIQ.SEC14</td>\n",
              "      <td>Farm expenses price index - Dairy farms - Freight</td>\n",
              "      <td>2020.06</td>\n",
              "      <td>1102</td>\n",
              "      <td>1120</td>\n",
              "      <td>1990</td>\n",
              "    </tr>\n",
              "    <tr>\n",
              "      <th>76</th>\n",
              "      <td>FPIQ.SEC99</td>\n",
              "      <td>Farm expenses price index - Dairy farms - All ...</td>\n",
              "      <td>2020.06</td>\n",
              "      <td>1067</td>\n",
              "      <td>1068</td>\n",
              "      <td>1983</td>\n",
              "    </tr>\n",
              "    <tr>\n",
              "      <th>77</th>\n",
              "      <td>FPIQ.SEH14</td>\n",
              "      <td>Farm expenses price index - All farms - Freight</td>\n",
              "      <td>2020.06</td>\n",
              "      <td>1102</td>\n",
              "      <td>1110</td>\n",
              "      <td>1990</td>\n",
              "    </tr>\n",
              "  </tbody>\n",
              "</table>\n",
              "</div>"
            ],
            "text/plain": [
              "   Series reference  ... Birthday\n",
              "73   PPIQ.SQNMN2100  ...     1987\n",
              "74   PPIQ.SQNRS211X  ...     1991\n",
              "75       FPIQ.SEC14  ...     1990\n",
              "76       FPIQ.SEC99  ...     1983\n",
              "77       FPIQ.SEH14  ...     1990\n",
              "\n",
              "[5 rows x 6 columns]"
            ]
          },
          "metadata": {
            "tags": []
          },
          "execution_count": 108
        }
      ]
    },
    {
      "cell_type": "code",
      "metadata": {
        "colab": {
          "base_uri": "https://localhost:8080/",
          "height": 204
        },
        "id": "hchN1pTaZAyh",
        "outputId": "3a9dc4f3-bdd9-4884-ac5e-8e4e03edcb30"
      },
      "source": [
        "df['Is_young'] = df['Birthday'] >1990     # Thêm cột dựa vào dữ liệu đã có\r\n",
        "df.head(5)"
      ],
      "execution_count": 109,
      "outputs": [
        {
          "output_type": "execute_result",
          "data": {
            "text/html": [
              "<div>\n",
              "<style scoped>\n",
              "    .dataframe tbody tr th:only-of-type {\n",
              "        vertical-align: middle;\n",
              "    }\n",
              "\n",
              "    .dataframe tbody tr th {\n",
              "        vertical-align: top;\n",
              "    }\n",
              "\n",
              "    .dataframe thead th {\n",
              "        text-align: right;\n",
              "    }\n",
              "</style>\n",
              "<table border=\"1\" class=\"dataframe\">\n",
              "  <thead>\n",
              "    <tr style=\"text-align: right;\">\n",
              "      <th></th>\n",
              "      <th>Series reference</th>\n",
              "      <th>Description</th>\n",
              "      <th>Period</th>\n",
              "      <th>Previously published</th>\n",
              "      <th>Revised</th>\n",
              "      <th>Birthday</th>\n",
              "      <th>Is_young</th>\n",
              "    </tr>\n",
              "  </thead>\n",
              "  <tbody>\n",
              "    <tr>\n",
              "      <th>0</th>\n",
              "      <td>PPIQ.SQU900000</td>\n",
              "      <td>PPI output index - All industries</td>\n",
              "      <td>2020.06</td>\n",
              "      <td>1183</td>\n",
              "      <td>1184</td>\n",
              "      <td>1989</td>\n",
              "      <td>False</td>\n",
              "    </tr>\n",
              "    <tr>\n",
              "      <th>1</th>\n",
              "      <td>PPIQ.SQU900001</td>\n",
              "      <td>PPI output index - All industries excl OOD</td>\n",
              "      <td>2020.06</td>\n",
              "      <td>1180</td>\n",
              "      <td>1181</td>\n",
              "      <td>1983</td>\n",
              "      <td>False</td>\n",
              "    </tr>\n",
              "    <tr>\n",
              "      <th>2</th>\n",
              "      <td>PPIQ.SQUC76745</td>\n",
              "      <td>PPI published output commodity - Transport sup...</td>\n",
              "      <td>2020.06</td>\n",
              "      <td>1400</td>\n",
              "      <td>1603</td>\n",
              "      <td>1995</td>\n",
              "      <td>True</td>\n",
              "    </tr>\n",
              "    <tr>\n",
              "      <th>3</th>\n",
              "      <td>PPIQ.SQUCC3100</td>\n",
              "      <td>PPI output index level 3 - Wood product manufa...</td>\n",
              "      <td>2020.06</td>\n",
              "      <td>1169</td>\n",
              "      <td>1170</td>\n",
              "      <td>1984</td>\n",
              "      <td>False</td>\n",
              "    </tr>\n",
              "    <tr>\n",
              "      <th>4</th>\n",
              "      <td>PPIQ.SQUCC3110</td>\n",
              "      <td>PPI output index level 4 - Wood product manufa...</td>\n",
              "      <td>2020.06</td>\n",
              "      <td>1169</td>\n",
              "      <td>1170</td>\n",
              "      <td>1984</td>\n",
              "      <td>False</td>\n",
              "    </tr>\n",
              "  </tbody>\n",
              "</table>\n",
              "</div>"
            ],
            "text/plain": [
              "  Series reference  ... Is_young\n",
              "0   PPIQ.SQU900000  ...    False\n",
              "1   PPIQ.SQU900001  ...    False\n",
              "2   PPIQ.SQUC76745  ...     True\n",
              "3   PPIQ.SQUCC3100  ...    False\n",
              "4   PPIQ.SQUCC3110  ...    False\n",
              "\n",
              "[5 rows x 7 columns]"
            ]
          },
          "metadata": {
            "tags": []
          },
          "execution_count": 109
        }
      ]
    },
    {
      "cell_type": "code",
      "metadata": {
        "colab": {
          "base_uri": "https://localhost:8080/",
          "height": 204
        },
        "id": "oZFLaJWYZL7w",
        "outputId": "40b2197b-038c-4fa0-e392-704ac971843b"
      },
      "source": [
        "df.drop('Revised', axis=1).head(5)         # Xóa 1 cột"
      ],
      "execution_count": 111,
      "outputs": [
        {
          "output_type": "execute_result",
          "data": {
            "text/html": [
              "<div>\n",
              "<style scoped>\n",
              "    .dataframe tbody tr th:only-of-type {\n",
              "        vertical-align: middle;\n",
              "    }\n",
              "\n",
              "    .dataframe tbody tr th {\n",
              "        vertical-align: top;\n",
              "    }\n",
              "\n",
              "    .dataframe thead th {\n",
              "        text-align: right;\n",
              "    }\n",
              "</style>\n",
              "<table border=\"1\" class=\"dataframe\">\n",
              "  <thead>\n",
              "    <tr style=\"text-align: right;\">\n",
              "      <th></th>\n",
              "      <th>Series reference</th>\n",
              "      <th>Description</th>\n",
              "      <th>Period</th>\n",
              "      <th>Previously published</th>\n",
              "      <th>Birthday</th>\n",
              "      <th>Is_young</th>\n",
              "    </tr>\n",
              "  </thead>\n",
              "  <tbody>\n",
              "    <tr>\n",
              "      <th>0</th>\n",
              "      <td>PPIQ.SQU900000</td>\n",
              "      <td>PPI output index - All industries</td>\n",
              "      <td>2020.06</td>\n",
              "      <td>1183</td>\n",
              "      <td>1989</td>\n",
              "      <td>False</td>\n",
              "    </tr>\n",
              "    <tr>\n",
              "      <th>1</th>\n",
              "      <td>PPIQ.SQU900001</td>\n",
              "      <td>PPI output index - All industries excl OOD</td>\n",
              "      <td>2020.06</td>\n",
              "      <td>1180</td>\n",
              "      <td>1983</td>\n",
              "      <td>False</td>\n",
              "    </tr>\n",
              "    <tr>\n",
              "      <th>2</th>\n",
              "      <td>PPIQ.SQUC76745</td>\n",
              "      <td>PPI published output commodity - Transport sup...</td>\n",
              "      <td>2020.06</td>\n",
              "      <td>1400</td>\n",
              "      <td>1995</td>\n",
              "      <td>True</td>\n",
              "    </tr>\n",
              "    <tr>\n",
              "      <th>3</th>\n",
              "      <td>PPIQ.SQUCC3100</td>\n",
              "      <td>PPI output index level 3 - Wood product manufa...</td>\n",
              "      <td>2020.06</td>\n",
              "      <td>1169</td>\n",
              "      <td>1984</td>\n",
              "      <td>False</td>\n",
              "    </tr>\n",
              "    <tr>\n",
              "      <th>4</th>\n",
              "      <td>PPIQ.SQUCC3110</td>\n",
              "      <td>PPI output index level 4 - Wood product manufa...</td>\n",
              "      <td>2020.06</td>\n",
              "      <td>1169</td>\n",
              "      <td>1984</td>\n",
              "      <td>False</td>\n",
              "    </tr>\n",
              "  </tbody>\n",
              "</table>\n",
              "</div>"
            ],
            "text/plain": [
              "  Series reference  ... Is_young\n",
              "0   PPIQ.SQU900000  ...    False\n",
              "1   PPIQ.SQU900001  ...    False\n",
              "2   PPIQ.SQUC76745  ...     True\n",
              "3   PPIQ.SQUCC3100  ...    False\n",
              "4   PPIQ.SQUCC3110  ...    False\n",
              "\n",
              "[5 rows x 6 columns]"
            ]
          },
          "metadata": {
            "tags": []
          },
          "execution_count": 111
        }
      ]
    },
    {
      "cell_type": "code",
      "metadata": {
        "colab": {
          "base_uri": "https://localhost:8080/",
          "height": 204
        },
        "id": "5-MSluNYZkFn",
        "outputId": "31fc02f7-9881-414b-8e37-4e3b6628e679"
      },
      "source": [
        "df.drop(['Period', 'Birthday','Revised'], axis=1).head(5)    # Xóa nhiều cột"
      ],
      "execution_count": 117,
      "outputs": [
        {
          "output_type": "execute_result",
          "data": {
            "text/html": [
              "<div>\n",
              "<style scoped>\n",
              "    .dataframe tbody tr th:only-of-type {\n",
              "        vertical-align: middle;\n",
              "    }\n",
              "\n",
              "    .dataframe tbody tr th {\n",
              "        vertical-align: top;\n",
              "    }\n",
              "\n",
              "    .dataframe thead th {\n",
              "        text-align: right;\n",
              "    }\n",
              "</style>\n",
              "<table border=\"1\" class=\"dataframe\">\n",
              "  <thead>\n",
              "    <tr style=\"text-align: right;\">\n",
              "      <th></th>\n",
              "      <th>Series reference</th>\n",
              "      <th>Description</th>\n",
              "      <th>Previously published</th>\n",
              "      <th>Is_young</th>\n",
              "    </tr>\n",
              "  </thead>\n",
              "  <tbody>\n",
              "    <tr>\n",
              "      <th>0</th>\n",
              "      <td>PPIQ.SQU900000</td>\n",
              "      <td>PPI output index - All industries</td>\n",
              "      <td>1183</td>\n",
              "      <td>False</td>\n",
              "    </tr>\n",
              "    <tr>\n",
              "      <th>1</th>\n",
              "      <td>PPIQ.SQU900001</td>\n",
              "      <td>PPI output index - All industries excl OOD</td>\n",
              "      <td>1180</td>\n",
              "      <td>False</td>\n",
              "    </tr>\n",
              "    <tr>\n",
              "      <th>2</th>\n",
              "      <td>PPIQ.SQUC76745</td>\n",
              "      <td>PPI published output commodity - Transport sup...</td>\n",
              "      <td>1400</td>\n",
              "      <td>True</td>\n",
              "    </tr>\n",
              "    <tr>\n",
              "      <th>3</th>\n",
              "      <td>PPIQ.SQUCC3100</td>\n",
              "      <td>PPI output index level 3 - Wood product manufa...</td>\n",
              "      <td>1169</td>\n",
              "      <td>False</td>\n",
              "    </tr>\n",
              "    <tr>\n",
              "      <th>4</th>\n",
              "      <td>PPIQ.SQUCC3110</td>\n",
              "      <td>PPI output index level 4 - Wood product manufa...</td>\n",
              "      <td>1169</td>\n",
              "      <td>False</td>\n",
              "    </tr>\n",
              "  </tbody>\n",
              "</table>\n",
              "</div>"
            ],
            "text/plain": [
              "  Series reference  ... Is_young\n",
              "0   PPIQ.SQU900000  ...    False\n",
              "1   PPIQ.SQU900001  ...    False\n",
              "2   PPIQ.SQUC76745  ...     True\n",
              "3   PPIQ.SQUCC3100  ...    False\n",
              "4   PPIQ.SQUCC3110  ...    False\n",
              "\n",
              "[5 rows x 4 columns]"
            ]
          },
          "metadata": {
            "tags": []
          },
          "execution_count": 117
        }
      ]
    },
    {
      "cell_type": "code",
      "metadata": {
        "colab": {
          "base_uri": "https://localhost:8080/",
          "height": 204
        },
        "id": "nAdoYIeTZq0m",
        "outputId": "e7d1a5c8-921d-473c-f46f-45ff57525f68"
      },
      "source": [
        "df.drop(columns=['Period', 'Birthday','Revised']).head(5) # Xóa các cột có tên (tương tự như trên)"
      ],
      "execution_count": 119,
      "outputs": [
        {
          "output_type": "execute_result",
          "data": {
            "text/html": [
              "<div>\n",
              "<style scoped>\n",
              "    .dataframe tbody tr th:only-of-type {\n",
              "        vertical-align: middle;\n",
              "    }\n",
              "\n",
              "    .dataframe tbody tr th {\n",
              "        vertical-align: top;\n",
              "    }\n",
              "\n",
              "    .dataframe thead th {\n",
              "        text-align: right;\n",
              "    }\n",
              "</style>\n",
              "<table border=\"1\" class=\"dataframe\">\n",
              "  <thead>\n",
              "    <tr style=\"text-align: right;\">\n",
              "      <th></th>\n",
              "      <th>Series reference</th>\n",
              "      <th>Description</th>\n",
              "      <th>Previously published</th>\n",
              "      <th>Is_young</th>\n",
              "    </tr>\n",
              "  </thead>\n",
              "  <tbody>\n",
              "    <tr>\n",
              "      <th>0</th>\n",
              "      <td>PPIQ.SQU900000</td>\n",
              "      <td>PPI output index - All industries</td>\n",
              "      <td>1183</td>\n",
              "      <td>False</td>\n",
              "    </tr>\n",
              "    <tr>\n",
              "      <th>1</th>\n",
              "      <td>PPIQ.SQU900001</td>\n",
              "      <td>PPI output index - All industries excl OOD</td>\n",
              "      <td>1180</td>\n",
              "      <td>False</td>\n",
              "    </tr>\n",
              "    <tr>\n",
              "      <th>2</th>\n",
              "      <td>PPIQ.SQUC76745</td>\n",
              "      <td>PPI published output commodity - Transport sup...</td>\n",
              "      <td>1400</td>\n",
              "      <td>True</td>\n",
              "    </tr>\n",
              "    <tr>\n",
              "      <th>3</th>\n",
              "      <td>PPIQ.SQUCC3100</td>\n",
              "      <td>PPI output index level 3 - Wood product manufa...</td>\n",
              "      <td>1169</td>\n",
              "      <td>False</td>\n",
              "    </tr>\n",
              "    <tr>\n",
              "      <th>4</th>\n",
              "      <td>PPIQ.SQUCC3110</td>\n",
              "      <td>PPI output index level 4 - Wood product manufa...</td>\n",
              "      <td>1169</td>\n",
              "      <td>False</td>\n",
              "    </tr>\n",
              "  </tbody>\n",
              "</table>\n",
              "</div>"
            ],
            "text/plain": [
              "  Series reference  ... Is_young\n",
              "0   PPIQ.SQU900000  ...    False\n",
              "1   PPIQ.SQU900001  ...    False\n",
              "2   PPIQ.SQUC76745  ...     True\n",
              "3   PPIQ.SQUCC3100  ...    False\n",
              "4   PPIQ.SQUCC3110  ...    False\n",
              "\n",
              "[5 rows x 4 columns]"
            ]
          },
          "metadata": {
            "tags": []
          },
          "execution_count": 119
        }
      ]
    },
    {
      "cell_type": "code",
      "metadata": {
        "colab": {
          "base_uri": "https://localhost:8080/",
          "height": 235
        },
        "id": "cbnd1kDyaRnP",
        "outputId": "8b4410d8-722b-4074-b334-2ea1674c08e8"
      },
      "source": [
        "df.drop([3, 6]).head(6)    # Xóa bản ghi hàng [3] và [6]"
      ],
      "execution_count": 125,
      "outputs": [
        {
          "output_type": "execute_result",
          "data": {
            "text/html": [
              "<div>\n",
              "<style scoped>\n",
              "    .dataframe tbody tr th:only-of-type {\n",
              "        vertical-align: middle;\n",
              "    }\n",
              "\n",
              "    .dataframe tbody tr th {\n",
              "        vertical-align: top;\n",
              "    }\n",
              "\n",
              "    .dataframe thead th {\n",
              "        text-align: right;\n",
              "    }\n",
              "</style>\n",
              "<table border=\"1\" class=\"dataframe\">\n",
              "  <thead>\n",
              "    <tr style=\"text-align: right;\">\n",
              "      <th></th>\n",
              "      <th>Series reference</th>\n",
              "      <th>Description</th>\n",
              "      <th>Period</th>\n",
              "      <th>Previously published</th>\n",
              "      <th>Revised</th>\n",
              "      <th>Birthday</th>\n",
              "      <th>Is_young</th>\n",
              "    </tr>\n",
              "  </thead>\n",
              "  <tbody>\n",
              "    <tr>\n",
              "      <th>0</th>\n",
              "      <td>PPIQ.SQU900000</td>\n",
              "      <td>PPI output index - All industries</td>\n",
              "      <td>2020.06</td>\n",
              "      <td>1183</td>\n",
              "      <td>1184</td>\n",
              "      <td>1989</td>\n",
              "      <td>False</td>\n",
              "    </tr>\n",
              "    <tr>\n",
              "      <th>1</th>\n",
              "      <td>PPIQ.SQU900001</td>\n",
              "      <td>PPI output index - All industries excl OOD</td>\n",
              "      <td>2020.06</td>\n",
              "      <td>1180</td>\n",
              "      <td>1181</td>\n",
              "      <td>1983</td>\n",
              "      <td>False</td>\n",
              "    </tr>\n",
              "    <tr>\n",
              "      <th>2</th>\n",
              "      <td>PPIQ.SQUC76745</td>\n",
              "      <td>PPI published output commodity - Transport sup...</td>\n",
              "      <td>2020.06</td>\n",
              "      <td>1400</td>\n",
              "      <td>1603</td>\n",
              "      <td>1995</td>\n",
              "      <td>True</td>\n",
              "    </tr>\n",
              "    <tr>\n",
              "      <th>4</th>\n",
              "      <td>PPIQ.SQUCC3110</td>\n",
              "      <td>PPI output index level 4 - Wood product manufa...</td>\n",
              "      <td>2020.06</td>\n",
              "      <td>1169</td>\n",
              "      <td>1170</td>\n",
              "      <td>1984</td>\n",
              "      <td>False</td>\n",
              "    </tr>\n",
              "    <tr>\n",
              "      <th>5</th>\n",
              "      <td>PPIQ.SQUFF0000</td>\n",
              "      <td>PPI output index level 1 - Wholesale trade</td>\n",
              "      <td>2020.06</td>\n",
              "      <td>1132</td>\n",
              "      <td>1133</td>\n",
              "      <td>1985</td>\n",
              "      <td>False</td>\n",
              "    </tr>\n",
              "    <tr>\n",
              "      <th>7</th>\n",
              "      <td>PPIQ.SQUFF1100</td>\n",
              "      <td>PPI output index level 3 - Wholesale trade</td>\n",
              "      <td>2020.06</td>\n",
              "      <td>1132</td>\n",
              "      <td>1133</td>\n",
              "      <td>1986</td>\n",
              "      <td>False</td>\n",
              "    </tr>\n",
              "  </tbody>\n",
              "</table>\n",
              "</div>"
            ],
            "text/plain": [
              "  Series reference  ... Is_young\n",
              "0   PPIQ.SQU900000  ...    False\n",
              "1   PPIQ.SQU900001  ...    False\n",
              "2   PPIQ.SQUC76745  ...     True\n",
              "4   PPIQ.SQUCC3110  ...    False\n",
              "5   PPIQ.SQUFF0000  ...    False\n",
              "7   PPIQ.SQUFF1100  ...    False\n",
              "\n",
              "[6 rows x 7 columns]"
            ]
          },
          "metadata": {
            "tags": []
          },
          "execution_count": 125
        }
      ]
    },
    {
      "cell_type": "markdown",
      "metadata": {
        "id": "6QxkqUH5bAXp"
      },
      "source": [
        "Sắp xếp dataframe"
      ]
    },
    {
      "cell_type": "code",
      "metadata": {
        "colab": {
          "base_uri": "https://localhost:8080/"
        },
        "id": "qIPg19C2bCd3",
        "outputId": "e832a114-c17c-4eca-c2b6-9341ec431533"
      },
      "source": [
        "df = pd.DataFrame({'Series reference': ['PPIQ.SQU900000', 'PPIQ.SQU900000', 'PPIQ.SQUC76745'], 'Revised': [1184,1181,1603]})\r\n",
        "print('Before sort\\n', df)\r\n",
        "df = df.sort_values('Revised', ascending=True)\r\n",
        "print('After sort\\n', df)"
      ],
      "execution_count": 129,
      "outputs": [
        {
          "output_type": "stream",
          "text": [
            "Before sort\n",
            "   Series reference  Revised\n",
            "0   PPIQ.SQU900000     1184\n",
            "1   PPIQ.SQU900000     1181\n",
            "2   PPIQ.SQUC76745     1603\n",
            "After sort\n",
            "   Series reference  Revised\n",
            "1   PPIQ.SQU900000     1181\n",
            "0   PPIQ.SQU900000     1184\n",
            "2   PPIQ.SQUC76745     1603\n"
          ],
          "name": "stdout"
        }
      ]
    }
  ]
}