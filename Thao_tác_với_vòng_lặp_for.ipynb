{
  "nbformat": 4,
  "nbformat_minor": 0,
  "metadata": {
    "colab": {
      "name": "Thao tác với vòng lặp for.ipynb",
      "provenance": [],
      "collapsed_sections": [],
      "authorship_tag": "ABX9TyPlmxOquFIuksUpNz8SX5ve",
      "include_colab_link": true
    },
    "kernelspec": {
      "name": "python3",
      "display_name": "Python 3"
    }
  },
  "cells": [
    {
      "cell_type": "markdown",
      "metadata": {
        "id": "view-in-github",
        "colab_type": "text"
      },
      "source": [
        "<a href=\"https://colab.research.google.com/github/Hoang-Quang-Thang/Thang/blob/main/Thao_t%C3%A1c_v%E1%BB%9Bi_v%C3%B2ng_l%E1%BA%B7p_for.ipynb\" target=\"_parent\"><img src=\"https://colab.research.google.com/assets/colab-badge.svg\" alt=\"Open In Colab\"/></a>"
      ]
    },
    {
      "cell_type": "code",
      "metadata": {
        "colab": {
          "base_uri": "https://localhost:8080/"
        },
        "id": "aSAEL7JkTiEp",
        "outputId": "2c06c4a9-2726-4811-ca2e-3c3d23640c0d"
      },
      "source": [
        "bien=[1,2,4,16,54]\n",
        "for x in bien:\n",
        "  print(x)"
      ],
      "execution_count": 2,
      "outputs": [
        {
          "output_type": "stream",
          "text": [
            "1\n",
            "2\n",
            "4\n",
            "16\n",
            "54\n"
          ],
          "name": "stdout"
        }
      ]
    },
    {
      "cell_type": "code",
      "metadata": {
        "colab": {
          "base_uri": "https://localhost:8080/"
        },
        "id": "xknxEzipUETA",
        "outputId": "6ba1d051-c53d-4589-a8fb-b73096c9d9d1"
      },
      "source": [
        "import math\n",
        "x=float(x)\n",
        "bien=[2,4,16,54,-1,0]\n",
        "for x in bien:\n",
        "   if x>0:\n",
        "    print(math.log2(x))"
      ],
      "execution_count": 35,
      "outputs": [
        {
          "output_type": "stream",
          "text": [
            "1.0\n",
            "2.0\n",
            "4.0\n",
            "5.754887502163468\n"
          ],
          "name": "stdout"
        }
      ]
    }
  ]
}