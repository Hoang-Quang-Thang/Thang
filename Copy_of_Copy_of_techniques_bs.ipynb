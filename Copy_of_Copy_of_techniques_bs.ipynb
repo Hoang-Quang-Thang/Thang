{
  "nbformat": 4,
  "nbformat_minor": 0,
  "metadata": {
    "colab": {
      "name": "Copy of Copy of techniques-bs.ipynb",
      "provenance": [],
      "collapsed_sections": [],
      "include_colab_link": true
    },
    "kernelspec": {
      "name": "python3",
      "display_name": "Python 3"
    }
  },
  "cells": [
    {
      "cell_type": "markdown",
      "metadata": {
        "id": "view-in-github",
        "colab_type": "text"
      },
      "source": [
        "<a href=\"https://colab.research.google.com/github/Hoang-Quang-Thang/Thang/blob/main/Copy_of_Copy_of_techniques_bs.ipynb\" target=\"_parent\"><img src=\"https://colab.research.google.com/assets/colab-badge.svg\" alt=\"Open In Colab\"/></a>"
      ]
    },
    {
      "cell_type": "markdown",
      "metadata": {
        "id": "nxCw7AZAZrUy"
      },
      "source": [
        "1 Tải 1 url về"
      ]
    },
    {
      "cell_type": "code",
      "metadata": {
        "id": "gUabxirVZibE"
      },
      "source": [
        "from bs4 import BeautifulSoup\r\n",
        "from urllib.request import urlopen"
      ],
      "execution_count": null,
      "outputs": []
    },
    {
      "cell_type": "code",
      "metadata": {
        "id": "994LJubrjoag"
      },
      "source": [
        "url = 'https://vietnamnet.vn/'"
      ],
      "execution_count": null,
      "outputs": []
    },
    {
      "cell_type": "code",
      "metadata": {
        "id": "Ekw7sZxMjrwQ",
        "colab": {
          "base_uri": "https://localhost:8080/"
        },
        "outputId": "699fa970-6ce2-46af-da47-e700af4c3f76"
      },
      "source": [
        "page = urllib.request.urlopen(url)\r\n",
        "print(page)"
      ],
      "execution_count": null,
      "outputs": [
        {
          "output_type": "stream",
          "text": [
            "<http.client.HTTPResponse object at 0x7f420607c550>\n"
          ],
          "name": "stdout"
        }
      ]
    },
    {
      "cell_type": "code",
      "metadata": {
        "id": "fTp84ctYj0XA"
      },
      "source": [
        "soup = BeautifulSoup(page, 'html.parser')\r\n",
        "print(soup.prettify())"
      ],
      "execution_count": null,
      "outputs": []
    },
    {
      "cell_type": "markdown",
      "metadata": {
        "id": "osKHdc80ZwDV"
      },
      "source": [
        "2. Lưu 1 html vào thư mục chỉ định"
      ]
    },
    {
      "cell_type": "code",
      "metadata": {
        "id": "-gvDk-nlZzLo"
      },
      "source": [
        ""
      ],
      "execution_count": null,
      "outputs": []
    },
    {
      "cell_type": "markdown",
      "metadata": {
        "id": "BcKYLfcxZ-Hn"
      },
      "source": [
        "3. Cách lấy 1 phần tử đầu tiên ra khỏi list và xóa nó khỏi list"
      ]
    },
    {
      "cell_type": "code",
      "metadata": {
        "id": "rjRGJjQiaB-Y"
      },
      "source": [
        "list = [1, 2, 3, 4]\r\n",
        "x = list.pop(0)\r\n",
        "print(x)\r\n",
        "print(list)"
      ],
      "execution_count": null,
      "outputs": []
    },
    {
      "cell_type": "markdown",
      "metadata": {
        "id": "pfd7r87vaDSZ"
      },
      "source": [
        "4. Cách lấy các url trong html"
      ]
    },
    {
      "cell_type": "code",
      "metadata": {
        "id": "osOcronYaGuY"
      },
      "source": [
        "for link in soup.find_all('a'):\r\n",
        "  if 'href' in link.attrs:\r\n",
        "    print(link.attrs['href'])"
      ],
      "execution_count": null,
      "outputs": []
    }
  ]
}