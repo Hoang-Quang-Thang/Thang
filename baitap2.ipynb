{
  "nbformat": 4,
  "nbformat_minor": 0,
  "metadata": {
    "colab": {
      "name": "baitap2.ipynb",
      "provenance": [],
      "collapsed_sections": [],
      "include_colab_link": true
    },
    "kernelspec": {
      "name": "python3",
      "display_name": "Python 3"
    }
  },
  "cells": [
    {
      "cell_type": "markdown",
      "metadata": {
        "id": "view-in-github",
        "colab_type": "text"
      },
      "source": [
        "<a href=\"https://colab.research.google.com/github/Hoang-Quang-Thang/Thang/blob/main/baitap2.ipynb\" target=\"_parent\"><img src=\"https://colab.research.google.com/assets/colab-badge.svg\" alt=\"Open In Colab\"/></a>"
      ]
    },
    {
      "cell_type": "markdown",
      "metadata": {
        "id": "sMJ5KoiBMARd"
      },
      "source": [
        "**BÀI TẬP LẬP TRÌNH CHƯƠNG 2**\n",
        "\n",
        "Bài 1: Lập trình nhập vào từ bàn phím 2 số nguyên và tính:\n",
        "\n",
        "\n",
        "1.   Tổng của 2 số\n",
        "2.   Tích của 2 số\n",
        "3.   Hiệu của 2 số\n",
        "4.   Phép chia lấy phần dư của 2 số\n",
        "5.   Phép chia lấy phần nguyên của 2 số\n",
        "\n",
        "Kết quả xuất ra màn hình\n",
        "\n"
      ]
    },
    {
      "cell_type": "code",
      "metadata": {
        "id": "Os5z0wPpL1Nk",
        "outputId": "7e6c14e0-0083-4f24-8762-9d8b3071e970",
        "colab": {
          "base_uri": "https://localhost:8080/",
          "height": 136
        }
      },
      "source": [
        "a=int(input('a='))\n",
        "b=int(input('b='))\n",
        "c=a+b\n",
        "print('a + b =',c)\n",
        "c=a*b\n",
        "print('a * b =',c)\n",
        "c=a-b\n",
        "print('a - b =',c)\n",
        "c=a%b\n",
        "print('a % b =',c)\n",
        "c=a//b\n",
        "print('a // b =',c)\n",
        "\n",
        "\n"
      ],
      "execution_count": null,
      "outputs": [
        {
          "output_type": "stream",
          "text": [
            "a=2\n",
            "b=3\n",
            "a + b = 5\n",
            "a * b = 6\n",
            "a - b = -1\n",
            "a % b = 2\n",
            "a // b = 0\n"
          ],
          "name": "stdout"
        }
      ]
    },
    {
      "cell_type": "code",
      "metadata": {
        "id": "SMafxRBkG2OD"
      },
      "source": [
        ""
      ],
      "execution_count": null,
      "outputs": []
    },
    {
      "cell_type": "markdown",
      "metadata": {
        "id": "j2suJwVPM5Zk"
      },
      "source": [
        "Bài 2: Lập trình nhập vào từ bàn phím 2 số thực và tính:\n",
        "\n",
        "1.   Tổng của 2 số\n",
        "2.   Tích của 2 số\n",
        "3.   Hiệu của 2 số\n",
        "4.   Thương của 2 số\n",
        "\n",
        "Kết quả xuất ra màn hình"
      ]
    },
    {
      "cell_type": "code",
      "metadata": {
        "id": "fmlD-ggRMh9q",
        "outputId": "24a45dc5-6698-40aa-b649-5b7dab387acb",
        "colab": {
          "base_uri": "https://localhost:8080/",
          "height": 119
        }
      },
      "source": [
        "a=float(input('a='))\n",
        "b=float(input('b='))\n",
        "c=a+b\n",
        "print('a + b =',c)\n",
        "c=a*b\n",
        "print('a * b =',c)\n",
        "c=a-b\n",
        "print('a - b =',c)\n",
        "c=a/b\n",
        "print('a / b =',c)\n",
        "\n"
      ],
      "execution_count": null,
      "outputs": [
        {
          "output_type": "stream",
          "text": [
            "a=6.5\n",
            "b=3.25\n",
            "a + b = 9.75\n",
            "a * b = 21.125\n",
            "a - b = 3.25\n",
            "a / b = 2.0\n"
          ],
          "name": "stdout"
        }
      ]
    },
    {
      "cell_type": "markdown",
      "metadata": {
        "id": "sOCly6AvNUAN"
      },
      "source": [
        "Bài 3: (Sử dụng các hàm toán học) Nhập một số từ bàn phím và tính:\n",
        "\n",
        "\n",
        "\n",
        "1.   Trị tuyệt đối\n",
        "2.   Lấy phần nguyên của số\n",
        "3.   Chuyển đổi thành số thực\n",
        "4.   (nhập thêm 1 số từ bàn phím) và tính lũy thừa $ x^y $\n",
        "5.   Tính căn bậc hai\n",
        "\n",
        "Kết quả xuất ra màn hình\n",
        "\n"
      ]
    },
    {
      "cell_type": "code",
      "metadata": {
        "id": "XNKN4yAoOUAa",
        "outputId": "3017ed59-b315-439b-be42-ffdf3fce17a4",
        "colab": {
          "base_uri": "https://localhost:8080/",
          "height": 136
        }
      },
      "source": [
        "x=float(input('x='))\n",
        "y=float(input('y='))\n",
        "a=abs(x)\n",
        "print('Trị tuyệt đối của x là',a)\n",
        "a=int(x)\n",
        "print('Phần nguyên của x là',a)\n",
        "a=float(x)\n",
        "print('x chuyển đổi thành số thực bằng',a)\n",
        "a=pow(x,y)\n",
        "print('Lũy thừa của x mũ y là',a)\n",
        "a=pow(x,1/y)\n",
        "print('Căn bậc hai của x là',a)\n",
        "\n",
        "\n",
        "\n",
        "\n",
        "\n",
        "\n",
        "\n"
      ],
      "execution_count": null,
      "outputs": [
        {
          "output_type": "stream",
          "text": [
            "x=2\n",
            "y=3\n",
            "Trị tuyệt đối của x là 2.0\n",
            "Phần nguyên của x là 2\n",
            "x chuyển đổi thành số thực bằng 2.0\n",
            "Lũy thừa của x mũ y là 8.0\n",
            "Căn bậc hai của x là 1.2599210498948732\n"
          ],
          "name": "stdout"
        }
      ]
    },
    {
      "cell_type": "markdown",
      "metadata": {
        "id": "79zQGrU5Od-d"
      },
      "source": [
        "Bài 4: Nhập 2 số từ bàn phím và thực hiện các phép so sánh sau giữa 2 số:\n",
        "\n",
        "\n",
        "\n",
        "1.   $ \\geq $\n",
        "2.   $ \\leq $\n",
        "3.   $ > $\n",
        "4.   $ < $\n",
        "5.   $ \\neq $\n",
        "\n",
        "Kết quả xuất ra màn hình\n"
      ]
    },
    {
      "cell_type": "code",
      "metadata": {
        "id": "qePknJEaP1tL",
        "outputId": "1a4227bf-36aa-4ca4-c21c-2d0d2b127257",
        "colab": {
          "base_uri": "https://localhost:8080/",
          "height": 87
        }
      },
      "source": [
        "a=float(input('a='))\n",
        "b=float(input('b='))\n",
        "if a>=b: print('a≥b')\n",
        "if a<=b: print('a≤b')\n",
        "if a>b: print('a>b') \n",
        "if a<b: print('a<b')\n",
        "if a!=b: print('a≠b')\n",
        "\n"
      ],
      "execution_count": null,
      "outputs": [
        {
          "output_type": "stream",
          "text": [
            "a=3\n",
            "b=3\n",
            "a≥b\n",
            "a≤b\n"
          ],
          "name": "stdout"
        }
      ]
    },
    {
      "cell_type": "markdown",
      "metadata": {
        "id": "90lU8sTXP4hu"
      },
      "source": [
        "Bài 5: Nhập 1 chuỗi ký tự từ bàn phím:\n",
        "\n",
        "\n",
        "\n",
        "1.   Chuyển thành chuỗi in hoa\n",
        "2.   Chuyển thành chuỗi in thường\n",
        "\n",
        "Kết quả xuất ra màn hình\n",
        "\n",
        "\n",
        "\n"
      ]
    },
    {
      "cell_type": "code",
      "metadata": {
        "id": "PWIIssukQXja",
        "outputId": "2fcb9f3f-3c12-4622-fae6-42ebbab76624",
        "colab": {
          "base_uri": "https://localhost:8080/",
          "height": 52
        }
      },
      "source": [
        "string=\"HoÀng QuAng ThẮng\"\n",
        "print(string.upper())\n",
        "print(string.lower())\n",
        "\n",
        "\n"
      ],
      "execution_count": null,
      "outputs": [
        {
          "output_type": "stream",
          "text": [
            "HOÀNG QUANG THẮNG\n",
            "hoàng quang thắng\n"
          ],
          "name": "stdout"
        }
      ]
    },
    {
      "cell_type": "markdown",
      "metadata": {
        "id": "gv9n9-gMQZ7O"
      },
      "source": [
        "Bài 6: Xuất ra màn hình 1 chuỗi ký từ nằm trên nhiều hàng (có thể là 1 bài thơ tùy ý bạn lựa chọn)"
      ]
    },
    {
      "cell_type": "code",
      "metadata": {
        "id": "ZcjBCkQOQoS0",
        "outputId": "a2b17ed6-5751-46ef-c2ff-be879e3eb767",
        "colab": {
          "base_uri": "https://localhost:8080/",
          "height": 87
        }
      },
      "source": [
        "print('Thân em vừa trắng lại vừa tròn')\n",
        "print('Bảy nổi ba chìm với nước non')\n",
        "print('Rắn nát mặc dầu tay kẻ nặn')\n",
        "print('Mà em vẫn giữ tấm lòng son')\n",
        "\n",
        "\n"
      ],
      "execution_count": null,
      "outputs": [
        {
          "output_type": "stream",
          "text": [
            "Thân em vừa trắng lại vừa tròn\n",
            "Bảy nổi ba chìm với nước non\n",
            "Rắn nát mặc dầu tay kẻ nặn\n",
            "Mà em vẫn giữ tấm lòng son\n"
          ],
          "name": "stdout"
        }
      ]
    }
  ]
}