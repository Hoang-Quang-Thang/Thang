{
  "nbformat": 4,
  "nbformat_minor": 0,
  "metadata": {
    "colab": {
      "name": "Untitled2.ipynb",
      "provenance": [],
      "collapsed_sections": [],
      "authorship_tag": "ABX9TyOsYMzln2IWVcdfe11k/C/x",
      "include_colab_link": true
    },
    "kernelspec": {
      "name": "python3",
      "display_name": "Python 3"
    }
  },
  "cells": [
    {
      "cell_type": "markdown",
      "metadata": {
        "id": "view-in-github",
        "colab_type": "text"
      },
      "source": [
        "<a href=\"https://colab.research.google.com/github/Hoang-Quang-Thang/Thang/blob/main/numpy1.ipynb\" target=\"_parent\"><img src=\"https://colab.research.google.com/assets/colab-badge.svg\" alt=\"Open In Colab\"/></a>"
      ]
    },
    {
      "cell_type": "code",
      "metadata": {
        "id": "UWps5UF8NOej"
      },
      "source": [
        "import numpy as np"
      ],
      "execution_count": 18,
      "outputs": []
    },
    {
      "cell_type": "code",
      "metadata": {
        "id": "fuCGAWgyOhpP"
      },
      "source": [
        "x = np.array([[2, 4, 6],\r\n",
        "              [4, 6, 8]])\r\n",
        "y = np.array([[1, 3, 5],\r\n",
        "              [3, 5, 7]])"
      ],
      "execution_count": 17,
      "outputs": []
    },
    {
      "cell_type": "code",
      "metadata": {
        "colab": {
          "base_uri": "https://localhost:8080/"
        },
        "id": "tGPOCBYvO0p-",
        "outputId": "0340d6e1-b916-46c1-995e-dfca06702750"
      },
      "source": [
        "a = np.add(x,y)   # tong \r\n",
        "b = np.subtract(x,y)  # hieu\r\n",
        "c = np.multiply(x,y)  # tich\r\n",
        "d = np.divide(x,y)    # thuong\r\n",
        "e = np.transpose(y)   # chuyen vi 1 ma tran\r\n",
        "print(a)\r\n",
        "print(b)\r\n",
        "print(c)\r\n",
        "print(d)\r\n",
        "print(e)"
      ],
      "execution_count": 19,
      "outputs": [
        {
          "output_type": "stream",
          "text": [
            "[[ 3  7 11]\n",
            " [ 7 11 15]]\n",
            "[[1 1 1]\n",
            " [1 1 1]]\n",
            "[[ 2 12 30]\n",
            " [12 30 56]]\n",
            "[[2.         1.33333333 1.2       ]\n",
            " [1.33333333 1.2        1.14285714]]\n",
            "[[1 3]\n",
            " [3 5]\n",
            " [5 7]]\n"
          ],
          "name": "stdout"
        }
      ]
    }
  ]
}