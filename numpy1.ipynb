{
  "nbformat": 4,
  "nbformat_minor": 0,
  "metadata": {
    "colab": {
      "name": "numpy1.ipynb",
      "provenance": [],
      "collapsed_sections": [],
      "authorship_tag": "ABX9TyO2WowHORoe1c27kYezF0qK",
      "include_colab_link": true
    },
    "kernelspec": {
      "name": "python3",
      "display_name": "Python 3"
    }
  },
  "cells": [
    {
      "cell_type": "markdown",
      "metadata": {
        "id": "view-in-github",
        "colab_type": "text"
      },
      "source": [
        "<a href=\"https://colab.research.google.com/github/Hoang-Quang-Thang/Thang/blob/main/numpy1.ipynb\" target=\"_parent\"><img src=\"https://colab.research.google.com/assets/colab-badge.svg\" alt=\"Open In Colab\"/></a>"
      ]
    },
    {
      "cell_type": "code",
      "metadata": {
        "id": "pQa0KbuuSPuX"
      },
      "source": [
        "Các phép toán trong numpy"
      ],
      "execution_count": null,
      "outputs": []
    },
    {
      "cell_type": "code",
      "metadata": {
        "id": "J0ttwYWsVZtN"
      },
      "source": [
        "import numpy as np"
      ],
      "execution_count": 47,
      "outputs": []
    },
    {
      "cell_type": "code",
      "metadata": {
        "id": "NYPKptJ8V6bO"
      },
      "source": [
        "x = np.array([[2, 4, 6],\r\n",
        "              [1, 3, 5]])\r\n",
        "y = np.array([[3, 5, 7],\r\n",
        "              [4, 6, 8]])\r\n",
        "z = np.array([[3, 5, 7],\r\n",
        "              [4, 6, 8],\r\n",
        "              [1, 3, 5]])\r\n"
      ],
      "execution_count": 23,
      "outputs": []
    },
    {
      "cell_type": "code",
      "metadata": {
        "colab": {
          "base_uri": "https://localhost:8080/"
        },
        "id": "pO_TefdBPLRy",
        "outputId": "3bc2dc8f-477e-4cff-bcbc-b4bcb6e9cd37"
      },
      "source": [
        "a = np.add(x,y)   # tổng\r\n",
        "b = np.subtract(x,y)  # hiệu\r\n",
        "c = np.multiply(x,y)  # tích\r\n",
        "d = np.divide(x,y)    # thương\r\n",
        "e = np.transpose(x)   # chuyển vị 1 ma trận\r\n",
        "f = x = np.invert(x)  # đảo nghịch ma trận\r\n",
        "print(a)\r\n",
        "print(b)\r\n",
        "print(c)\r\n",
        "print(d)\r\n",
        "print(e)\r\n",
        "print(f)"
      ],
      "execution_count": 20,
      "outputs": [
        {
          "output_type": "stream",
          "text": [
            "[[0 0 0]\n",
            " [2 2 2]]\n",
            "[[ -6 -10 -14]\n",
            " [ -6 -10 -14]]\n",
            "[[ -9 -25 -49]\n",
            " [ -8 -24 -48]]\n",
            "[[-1.         -1.         -1.        ]\n",
            " [-0.5        -0.66666667 -0.75      ]]\n",
            "[[-3 -2]\n",
            " [-5 -4]\n",
            " [-7 -6]]\n",
            "[[2 4 6]\n",
            " [1 3 5]]\n"
          ],
          "name": "stdout"
        }
      ]
    },
    {
      "cell_type": "code",
      "metadata": {
        "id": "AUSpUgqTXJW1"
      },
      "source": [
        "Các kiểu kiến tạo mảng"
      ],
      "execution_count": null,
      "outputs": []
    },
    {
      "cell_type": "code",
      "metadata": {
        "colab": {
          "base_uri": "https://localhost:8080/"
        },
        "id": "ceIvFNJ2V-W8",
        "outputId": "f87a1912-eecb-4304-fc50-1383586bb40e"
      },
      "source": [
        "a = np.zeros((2,2))   # Tạo một numpy array 2 hàng 2 cột với tất cả phẩn tử là 0\r\n",
        "print(a)             \r\n",
        "\r\n",
        "b = np.ones((1,2))    # Tạo một numpy array 1 hàng 2 cột với tất cả phẩn tử là 1\r\n",
        "print(b)              \r\n",
        "\r\n",
        "c = np.full((2,3), 7)  # Tạo một mảng hằng 2 hàng 3 cột với giá trị là 7\r\n",
        "print(c)              \r\n",
        "\r\n",
        "d = np.eye(2)         # Tạo một ma trận đơn vị 2 x 2\r\n",
        "print(d)             \r\n",
        "\r\n",
        "e = np.random.random((2,3))  # Tạo một mảng với 2 hàng và 3 cột\r\n",
        "print(e) \r\n",
        "\r\n",
        "f = np.arange(10) # Tạo 1 numpy array với các phẩn tử từ 0 đến 9\r\n",
        "print(f)          \r\n",
        "\r\n",
        "g = np.arange(0)  # Tạo 1 numpy array rỗng\r\n",
        "print(g)"
      ],
      "execution_count": 7,
      "outputs": [
        {
          "output_type": "stream",
          "text": [
            "[[0. 0.]\n",
            " [0. 0.]]\n",
            "[[1. 1.]]\n",
            "[[7 7 7]\n",
            " [7 7 7]]\n",
            "[[1. 0.]\n",
            " [0. 1.]]\n",
            "[[0.11581679 0.82588204 0.69203066]\n",
            " [0.46461796 0.41608525 0.22545229]]\n",
            "[0 1 2 3 4 5 6 7 8 9]\n",
            "[]\n"
          ],
          "name": "stdout"
        }
      ]
    },
    {
      "cell_type": "code",
      "metadata": {
        "id": "mf6CewhLXmEo"
      },
      "source": [
        "Thao tác với mảng "
      ],
      "execution_count": null,
      "outputs": []
    },
    {
      "cell_type": "code",
      "metadata": {
        "colab": {
          "base_uri": "https://localhost:8080/"
        },
        "id": "oF7j6u-FXxTk",
        "outputId": "cb952c65-0e20-4ad5-e727-85aca747433e"
      },
      "source": [
        "print(\"Kiểu dữ liệu của phần tử trong mảng:\", x.dtype)\r\n",
        "print(\"Kích thước của mảng:\", x.shape)\r\n",
        "print(\"Số phần tử trong mảng:\", x.size)\r\n",
        "print(\"Số chiều của mảng:\", x.ndim)"
      ],
      "execution_count": 8,
      "outputs": [
        {
          "output_type": "stream",
          "text": [
            "Kiểu dữ liệu của phần tử trong mảng: int64\n",
            "Kích thước của mảng: (2, 3)\n",
            "Số phần tử trong mảng: 6\n",
            "Số chiều của mảng: 2\n"
          ],
          "name": "stdout"
        }
      ]
    },
    {
      "cell_type": "code",
      "metadata": {
        "id": "yurb5elFPrTw"
      },
      "source": [
        "Truy xuất phần tử trong mảng    # hàng và cột luôn bắt đầu với hàng [0] và cột [0]"
      ],
      "execution_count": null,
      "outputs": []
    },
    {
      "cell_type": "code",
      "metadata": {
        "colab": {
          "base_uri": "https://localhost:8080/"
        },
        "id": "SKmfjr9PQC2a",
        "outputId": "9861dd7a-3145-4b68-d94c-f6ec721fd447"
      },
      "source": [
        "print(\"x[2]=\", x[1])           # truy cập các phần tử ở hàng 2 của mẳng \r\n",
        "print(\"x[2:3]=\", x[1,2])       # phần tử ở hàng 2 cột 3 của mảng \r\n",
        "print(\"x[:,:1]=\", x[:,:2])     # Truy cập tới phần tử từ cột 0 đến cột 1 của tất cả các hàng \r\n",
        "print([x for x in zip(*z)])    # phân tích ra các ma trận bên trong "
      ],
      "execution_count": 45,
      "outputs": [
        {
          "output_type": "stream",
          "text": [
            "x[2]= [1 3 5]\n",
            "x[2:3]= 5\n",
            "x[:,:1]= [[2 4]\n",
            " [1 3]]\n",
            "[(3, 4, 1), (5, 6, 3), (7, 8, 5)]\n"
          ],
          "name": "stdout"
        }
      ]
    },
    {
      "cell_type": "code",
      "metadata": {
        "id": "wfZe2lNxVdcR"
      },
      "source": [
        "Các hàm thống kê"
      ],
      "execution_count": null,
      "outputs": []
    },
    {
      "cell_type": "code",
      "metadata": {
        "colab": {
          "base_uri": "https://localhost:8080/"
        },
        "id": "Kh1BXlJCVfcO",
        "outputId": "792a3611-1c4c-4622-a900-c16b334ef2a3"
      },
      "source": [
        "print(\"Giá trị lớn nhất của mảng là:\", np.max(x))\r\n",
        "print(\"Giá trị nhỏ nhất của mảng là:\", np.min(x))\r\n",
        "print(\"Tổng tất cả các phần tử của mảng là:\", np.sum(x))\r\n",
        "print(\"Trung bình cộng tất cả các phần tử của mảng là:\", np.mean(x))\r\n",
        "print(\"Giá trị trung vị của mảng là:\", np.median(x))"
      ],
      "execution_count": 53,
      "outputs": [
        {
          "output_type": "stream",
          "text": [
            "Giá trị lớn nhất của mảng là: 6\n",
            "Giá trị nhỏ nhất của mảng là: 1\n",
            "Tổng tất cả các phần tử của mảng là: 21\n",
            "Trung bình cộng tất cả các phần tử của mảng là: 3.5\n",
            "Giá trị trung vị của mảng là: 3.5\n"
          ],
          "name": "stdout"
        }
      ]
    }
  ]
}